{
  "nbformat": 4,
  "nbformat_minor": 0,
  "metadata": {
    "colab": {
      "provenance": []
    },
    "kernelspec": {
      "name": "python3",
      "display_name": "Python 3"
    },
    "language_info": {
      "name": "python"
    }
  },
  "cells": [
    {
      "cell_type": "code",
      "execution_count": null,
      "metadata": {
        "id": "Vlnm_P95d5Ix"
      },
      "outputs": [],
      "source": [
        "# FRONTEND: package.json\n",
        "cat > src/frontend/package.json <<'FPKG'\n",
        "{\n",
        "  \"name\": \"plantguard-frontend\",\n",
        "  \"version\": \"0.1.0\",\n",
        "  \"private\": true,\n",
        "  \"dependencies\": {\n",
        "    \"axios\": \"^1.4.0\",\n",
        "    \"react\": \"^18.2.0\",\n",
        "    \"react-dom\": \"^18.2.0\",\n",
        "    \"react-scripts\": \"5.0.1\"\n",
        "  },\n",
        "  \"scripts\": {\n",
        "    \"start\": \"react-scripts start\",\n",
        "    \"build\": \"react-scripts build\",\n",
        "    \"test\": \"react-scripts test --env=jsdom\"\n",
        "  }\n",
        "}\n",
        "FPKG"
      ]
    }
  ]
}