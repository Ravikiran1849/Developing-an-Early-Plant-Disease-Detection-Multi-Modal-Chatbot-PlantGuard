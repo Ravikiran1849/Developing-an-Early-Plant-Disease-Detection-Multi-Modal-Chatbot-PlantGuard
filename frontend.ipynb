{
  "nbformat": 4,
  "nbformat_minor": 0,
  "metadata": {
    "colab": {
      "provenance": []
    },
    "kernelspec": {
      "name": "python3",
      "display_name": "Python 3"
    },
    "language_info": {
      "name": "python"
    }
  },
  "cells": [
    {
      "cell_type": "code",
      "execution_count": null,
      "metadata": {
        "id": "3hm0h7ZfeShz"
      },
      "outputs": [],
      "source": [
        "# FRONTEND: src/App.js\n",
        "cat > src/frontend/src/App.js <<'FAPP'\n",
        "import React, {useState} from 'react';\n",
        "import axios from 'axios';\n",
        "import './App.css';\n",
        "\n",
        "function App() {\n",
        "  const [file, setFile] = useState(null);\n",
        "  const [result, setResult] = useState(null);\n",
        "  const [question, setQuestion] = useState('');\n",
        "  const [answer, setAnswer] = useState(null);\n",
        "\n",
        "  const onFileChange = (e) => {\n",
        "    setFile(e.target.files[0]);\n",
        "  };\n",
        "\n",
        "  const uploadImage = async () => {\n",
        "    if (!file) return alert('Choose a file first');\n",
        "    const fd = new FormData();\n",
        "    fd.append('file', file);\n",
        "    const res = await axios.post('http://localhost:8000/predict_image', fd);\n",
        "    setResult(res.data);\n",
        "  };\n",
        "\n",
        "  const askQuestion = async () => {\n",
        "    if (!question) return;\n",
        "    const res = await axios.post('http://localhost:8000/qa', { question });\n",
        "    setAnswer(res.data.answer);\n",
        "  };\n",
        "\n",
        "  return (\n",
        "    <div style={{padding:20}}>\n",
        "      <h2>PlantGuard Frontend (Flask + React)</h2>\n",
        "\n",
        "      <section>\n",
        "        <h4>Image prediction</h4>\n",
        "        <input type=\"file\" accept='image/*' onChange={onFileChange} />\n",
        "        <button onClick={uploadImage}>Predict Image</button>\n",
        "        {result && <div style={{marginTop:20}}>Label: {result.label} | Confidence: {result.confidence}</div>}\n",
        "      </section>\n",
        "\n",
        "      <section style={{marginTop:30}}>\n",
        "        <h4>Ask a question</h4>\n",
        "        <input type=\"text\" value={question} onChange={(e)=>setQuestion(e.target.value)} style={{width:'60%'}}/>\n",
        "        <button onClick={askQuestion}>Ask</button>\n",
        "        {answer && <div style={{marginTop:12}}><strong>Answer:</strong> {answer}</div>}\n",
        "      </section>\n",
        "    </div>\n",
        "  );\n",
        "}\n",
        "\n",
        "export default App;\n",
        "FAPP\n",
        "\n",
        "# FRONTEND: src/index.js\n",
        "cat > src/frontend/src/index.js <<'FIDX'\n",
        "import React from 'react';\n",
        "import { createRoot } from 'react-dom/client';\n",
        "import App from './App';\n",
        "import './App.css';\n",
        "const container = document.getElementById('root');\n",
        "const root = createRoot(container);\n",
        "root.render(<App />);\n",
        "FIDX"
      ]
    }
  ]
}