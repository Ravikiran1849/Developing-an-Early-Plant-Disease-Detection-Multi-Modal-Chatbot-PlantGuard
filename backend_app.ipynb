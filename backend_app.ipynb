{
  "nbformat": 4,
  "nbformat_minor": 0,
  "metadata": {
    "colab": {
      "provenance": []
    },
    "kernelspec": {
      "name": "python3",
      "display_name": "Python 3"
    },
    "language_info": {
      "name": "python"
    }
  },
  "cells": [
    {
      "cell_type": "code",
      "execution_count": null,
      "metadata": {
        "id": "5YZNwp1udGpY"
      },
      "outputs": [],
      "source": [
        "# BACKEND: app.py\n",
        "cat > src/backend/app.py <<'PYAPP'\n",
        "from flask import Flask, request, jsonify\n",
        "from flask_cors import CORS\n",
        "import os, io\n",
        "from PIL import Image\n",
        "\n",
        "# Import inference functions (placeholder)\n",
        "from inference import predict_image, predict_audio, answer_question\n",
        "\n",
        "app = Flask(__name__)\n",
        "CORS(app)\n",
        "\n",
        "@app.route('/predict_image', methods=['POST'])\n",
        "def predict_image_route():\n",
        "    if 'file' not in request.files:\n",
        "        return jsonify({'error':'no file part'}), 400\n",
        "    f = request.files['file']\n",
        "    try:\n",
        "        img = Image.open(io.BytesIO(f.read())).convert('RGB')\n",
        "        tmp = os.path.join('..','..','data','images','_tmp_backend.jpg')\n",
        "        os.makedirs(os.path.dirname(tmp), exist_ok=True)\n",
        "        img.save(tmp)\n",
        "        label, conf = predict_image(tmp)\n",
        "        return jsonify({'label': label, 'confidence': conf})\n",
        "    except Exception as e:\n",
        "        return jsonify({'error': str(e)}), 500\n",
        "\n",
        "@app.route('/predict_audio', methods=['POST'])\n",
        "def predict_audio_route():\n",
        "    if 'file' not in request.files:\n",
        "        return jsonify({'error':'no file part'}), 400\n",
        "    f = request.files['file']\n",
        "    tmp = os.path.join('..','..','data','audio','_tmp_backend.wav')\n",
        "    os.makedirs(os.path.dirname(tmp), exist_ok=True)\n",
        "    with open(tmp, 'wb') as out:\n",
        "        out.write(f.read())\n",
        "    label, conf = predict_audio(tmp)\n",
        "    return jsonify({'label': label, 'confidence': conf})\n",
        "\n",
        "@app.route('/qa', methods=['POST'])\n",
        "def qa_route():\n",
        "    data = request.get_json() or {}\n",
        "    q = data.get('question', '')\n",
        "    answer = answer_question(q)\n",
        "    return jsonify({'answer': answer})\n",
        "\n",
        "if __name__ == '__main__':\n",
        "    port = int(os.environ.get('PORT', 8000))\n",
        "    app.run(host='0.0.0.0', port=port, debug=True)\n",
        "PYAPP"
      ]
    }
  ]
}