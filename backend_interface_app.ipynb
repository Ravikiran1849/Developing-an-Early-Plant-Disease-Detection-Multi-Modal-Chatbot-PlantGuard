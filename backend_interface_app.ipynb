{
  "nbformat": 4,
  "nbformat_minor": 0,
  "metadata": {
    "colab": {
      "provenance": []
    },
    "kernelspec": {
      "name": "python3",
      "display_name": "Python 3"
    },
    "language_info": {
      "name": "python"
    }
  },
  "cells": [
    {
      "cell_type": "code",
      "execution_count": 1,
      "metadata": {
        "colab": {
          "base_uri": "https://localhost:8080/",
          "height": 211
        },
        "id": "j6mrkKtNdYo7",
        "outputId": "fe8a5f88-352a-4445-d691-e72a397946c5"
      },
      "outputs": [
        {
          "output_type": "error",
          "ename": "NameError",
          "evalue": "name 'cat' is not defined",
          "traceback": [
            "\u001b[0;31m---------------------------------------------------------------------------\u001b[0m",
            "\u001b[0;31mNameError\u001b[0m                                 Traceback (most recent call last)",
            "\u001b[0;32m/tmp/ipython-input-3375383148.py\u001b[0m in \u001b[0;36m<cell line: 0>\u001b[0;34m()\u001b[0m\n\u001b[1;32m      1\u001b[0m \u001b[0;31m# BACKEND: inference.py (placeholder)\u001b[0m\u001b[0;34m\u001b[0m\u001b[0;34m\u001b[0m\u001b[0m\n\u001b[0;32m----> 2\u001b[0;31m \u001b[0mcat\u001b[0m \u001b[0;34m>\u001b[0m \u001b[0msrc\u001b[0m\u001b[0;34m/\u001b[0m\u001b[0mbackend\u001b[0m\u001b[0;34m/\u001b[0m\u001b[0minference\u001b[0m\u001b[0;34m.\u001b[0m\u001b[0mpy\u001b[0m \u001b[0;34m<<\u001b[0m\u001b[0;34m'PYINF'\u001b[0m\u001b[0;34m\u001b[0m\u001b[0;34m\u001b[0m\u001b[0m\n\u001b[0m\u001b[1;32m      3\u001b[0m \u001b[0;31m# inference.py - placeholder methods. Replace these with your own model loading & inference.\u001b[0m\u001b[0;34m\u001b[0m\u001b[0;34m\u001b[0m\u001b[0m\n\u001b[1;32m      4\u001b[0m \u001b[0;32mimport\u001b[0m \u001b[0mrandom\u001b[0m\u001b[0;34m\u001b[0m\u001b[0;34m\u001b[0m\u001b[0m\n\u001b[1;32m      5\u001b[0m \u001b[0;34m\u001b[0m\u001b[0m\n",
            "\u001b[0;31mNameError\u001b[0m: name 'cat' is not defined"
          ]
        }
      ],
      "source": [
        "# BACKEND: inference.py (placeholder)\n",
        "cat > src/backend/inference.py <<'PYINF'\n",
        "# inference.py - placeholder methods. Replace these with your own model loading & inference.\n",
        "import random\n",
        "\n",
        "def predict_image(path):\n",
        "    # Replace with actual model inference:\n",
        "    classes = ['early_blight','late_blight','powdery_mildew','healthy']\n",
        "    idx = random.randint(0, len(classes)-1)\n",
        "    return classes[idx], round(random.uniform(0.6, 0.99), 2)\n",
        "\n",
        "def predict_audio(path):\n",
        "    classes = ['early_blight','late_blight','powdery_mildew','healthy']\n",
        "    idx = random.randint(0, len(classes)-1)\n",
        "    return classes[idx], round(random.uniform(0.5, 0.95), 2)\n",
        "\n",
        "def answer_question(question):\n",
        "    q = question.lower()\n",
        "    if 'yellow' in q or 'spots' in q:\n",
        "        return 'Yellow spots often indicate early blight; remove affected leaves and consider a fungicide.'\n",
        "    return 'Please provide an image or describe the symptoms in more detail.'\n",
        "PYINF"
      ]
    }
  ]
}